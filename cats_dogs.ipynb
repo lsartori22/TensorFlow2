{
  "nbformat": 4,
  "nbformat_minor": 0,
  "metadata": {
    "colab": {
      "name": "cats_dogs.ipynb",
      "provenance": [],
      "authorship_tag": "ABX9TyPgF3s4zKyj2XVhTbNTfP7O",
      "include_colab_link": true
    },
    "kernelspec": {
      "name": "python3",
      "display_name": "Python 3"
    },
    "accelerator": "GPU"
  },
  "cells": [
    {
      "cell_type": "markdown",
      "metadata": {
        "id": "view-in-github",
        "colab_type": "text"
      },
      "source": [
        "<a href=\"https://colab.research.google.com/github/smoreira/TensorFlow2/blob/master/cats_dogs.ipynb\" target=\"_parent\"><img src=\"https://colab.research.google.com/assets/colab-badge.svg\" alt=\"Open In Colab\"/></a>"
      ]
    },
    {
      "cell_type": "code",
      "metadata": {
        "id": "KyyF1r-LD-mD",
        "colab_type": "code",
        "colab": {
          "base_uri": "https://localhost:8080/",
          "height": 204
        },
        "outputId": "32b161b9-84c6-4d30-8d7c-b42cd744e027"
      },
      "source": [
        "!wget --no-check-certificate \\\n",
        "  https://storage.googleapis.com/mledu-datasets/cats_and_dogs_filtered.zip \\\n",
        "  -O /cats_and_dogs_filtered.zip"
      ],
      "execution_count": 4,
      "outputs": [
        {
          "output_type": "stream",
          "text": [
            "--2020-05-02 11:15:05--  https://storage.googleapis.com/mledu-datasets/cats_and_dogs_filtered.zip\n",
            "Resolving storage.googleapis.com (storage.googleapis.com)... 142.250.4.128, 2404:6800:4003:c04::80\n",
            "Connecting to storage.googleapis.com (storage.googleapis.com)|142.250.4.128|:443... connected.\n",
            "HTTP request sent, awaiting response... 200 OK\n",
            "Length: 68606236 (65M) [application/zip]\n",
            "Saving to: ‘/cats_and_dogs_filtered.zip’\n",
            "\n",
            "\r          /cats_and   0%[                    ]       0  --.-KB/s               \r         /cats_and_  21%[===>                ]  13.93M  64.3MB/s               \r        /cats_and_d  39%[======>             ]  25.89M  62.1MB/s               \r       /cats_and_do  50%[=========>          ]  32.79M  52.9MB/s               \r      /cats_and_dog  56%[==========>         ]  36.79M  43.7MB/s               \r     /cats_and_dogs  78%[==============>     ]  51.13M  49.1MB/s               \r/cats_and_dogs_filt 100%[===================>]  65.43M  55.2MB/s    in 1.2s    \n",
            "\n",
            "2020-05-02 11:15:07 (55.2 MB/s) - ‘/cats_and_dogs_filtered.zip’ saved [68606236/68606236]\n",
            "\n"
          ],
          "name": "stdout"
        }
      ]
    },
    {
      "cell_type": "code",
      "metadata": {
        "id": "utCCQ_oQEsul",
        "colab_type": "code",
        "colab": {}
      },
      "source": [
        "import os\n",
        "import zipfile\n",
        "\n",
        "local_zip = '/cats_and_dogs_filtered.zip'\n",
        "zip_ref = zipfile.ZipFile(local_zip,'r')\n",
        "zip_ref.extractall('/tmp')\n",
        "zip_ref.close()"
      ],
      "execution_count": 0,
      "outputs": []
    },
    {
      "cell_type": "code",
      "metadata": {
        "id": "gSqs7wgSGZu_",
        "colab_type": "code",
        "colab": {}
      },
      "source": [
        "base_dir = '/tmp/cats_and_dogs_filtered'\n",
        "\n",
        "train_dir = os.path.join(base_dir,'train')\n",
        "validation_dir = os.path.join(base_dir,'validation')\n",
        "\n",
        "train_cats_dir = os.path.join(train_dir,'cats')\n",
        "train_dogs_dir = os.path.join(train_dir,'dogs')\n",
        "\n",
        "validation_cats_dir = os.path.join(validation_dir, 'cats')\n",
        "validation_dogs_dir = os.path.join(validation_dir, 'dogs')"
      ],
      "execution_count": 0,
      "outputs": []
    },
    {
      "cell_type": "code",
      "metadata": {
        "id": "CeCEFxPZHi0O",
        "colab_type": "code",
        "colab": {
          "base_uri": "https://localhost:8080/",
          "height": 71
        },
        "outputId": "3743da7a-c51b-4dfa-8281-b0bdcb36644f"
      },
      "source": [
        "train_cat_fnames = os.listdir(train_cats_dir)\n",
        "train_dog_fnames = os.listdir(train_dogs_dir)\n",
        "\n",
        "print(train_cat_fnames[:10])\n",
        "print(train_dog_fnames[:10])"
      ],
      "execution_count": 7,
      "outputs": [
        {
          "output_type": "stream",
          "text": [
            "['cat.76.jpg', 'cat.634.jpg', 'cat.445.jpg', 'cat.67.jpg', 'cat.40.jpg', 'cat.777.jpg', 'cat.355.jpg', 'cat.308.jpg', 'cat.221.jpg', 'cat.703.jpg']\n",
            "['dog.937.jpg', 'dog.805.jpg', 'dog.351.jpg', 'dog.319.jpg', 'dog.596.jpg', 'dog.102.jpg', 'dog.997.jpg', 'dog.742.jpg', 'dog.378.jpg', 'dog.345.jpg']\n"
          ],
          "name": "stdout"
        }
      ]
    },
    {
      "cell_type": "code",
      "metadata": {
        "id": "mL4IhDynIDUR",
        "colab_type": "code",
        "colab": {
          "base_uri": "https://localhost:8080/",
          "height": 51
        },
        "outputId": "fd4275ad-2a10-4ea6-dc18-0ae8b09c3691"
      },
      "source": [
        "print('gatos:', len(os.listdir(validation_cats_dir)))\n",
        "print('cachorros:', len(os.listdir(validation_dogs_dir)))"
      ],
      "execution_count": 9,
      "outputs": [
        {
          "output_type": "stream",
          "text": [
            "gatos: 500\n",
            "cachorros: 500\n"
          ],
          "name": "stdout"
        }
      ]
    },
    {
      "cell_type": "code",
      "metadata": {
        "id": "OyHQkmB-JyzN",
        "colab_type": "code",
        "colab": {}
      },
      "source": [
        "import tensorflow as tf\n",
        "from tensorflow.keras.optimizers import RMSprop\n",
        "from tensorflow.keras.optimizers import Adam\n"
      ],
      "execution_count": 0,
      "outputs": []
    },
    {
      "cell_type": "code",
      "metadata": {
        "id": "TalGfvt72fK8",
        "colab_type": "code",
        "colab": {}
      },
      "source": [
        "  model = tf.keras.models.Sequential([\n",
        "    tf.keras.layers.Conv2D(64, (3,3), activation='relu', input_shape=(150,150,3)),\n",
        "    tf.keras.layers.MaxPooling2D(2,2),\n",
        "    tf.keras.layers.Conv2D(32, (3,3), activation='relu'),\n",
        "    tf.keras.layers.MaxPooling2D(2,2),\n",
        "    tf.keras.layers.Conv2D(16, (3,3), activation='relu'),\n",
        "    tf.keras.layers.MaxPooling2D(2,2),\n",
        "  \n",
        "    tf.keras.layers.Flatten(),\n",
        "    tf.keras.layers.Dense(512, activation='relu'),\n",
        "    tf.keras.layers.Dense(256, activation='relu'),\n",
        "    tf.keras.layers.Dense(64, activation='relu'),\n",
        "    tf.keras.layers.Dense(1, activation='sigmoid')\n",
        "  ])"
      ],
      "execution_count": 0,
      "outputs": []
    },
    {
      "cell_type": "code",
      "metadata": {
        "id": "-hqPleZ9K6rY",
        "colab_type": "code",
        "colab": {}
      },
      "source": [
        "model.compile(optimizer='adam',\n",
        "              loss='binary_crossentropy',\n",
        "              metrics = ['accuracy'])"
      ],
      "execution_count": 0,
      "outputs": []
    },
    {
      "cell_type": "code",
      "metadata": {
        "id": "D3cbkmAvMQFg",
        "colab_type": "code",
        "colab": {
          "base_uri": "https://localhost:8080/",
          "height": 51
        },
        "outputId": "9e2b1a4d-164a-4a11-86c3-c4583d307096"
      },
      "source": [
        "from tensorflow.keras.preprocessing.image import ImageDataGenerator\n",
        "\n",
        "train_datagen = ImageDataGenerator(rescale = 1.0/255.)\n",
        "test_datagen = ImageDataGenerator(rescale = 1.0/255.)\n",
        "\n",
        "train_generator = train_datagen.flow_from_directory(train_dir,\n",
        "                                                    batch_size=20,\n",
        "                                                    class_mode='binary',\n",
        "                                                    target_size=(150,150))\n",
        "\n",
        "validation_generator = test_datagen.flow_from_directory(validation_dir,\n",
        "                                                    batch_size=20,\n",
        "                                                    class_mode='binary',\n",
        "                                                    target_size=(150,150))"
      ],
      "execution_count": 26,
      "outputs": [
        {
          "output_type": "stream",
          "text": [
            "Found 2000 images belonging to 2 classes.\n",
            "Found 1000 images belonging to 2 classes.\n"
          ],
          "name": "stdout"
        }
      ]
    },
    {
      "cell_type": "code",
      "metadata": {
        "id": "tXHmokeeN_I5",
        "colab_type": "code",
        "colab": {
          "base_uri": "https://localhost:8080/",
          "height": 527
        },
        "outputId": "c8c03e0f-41aa-4a9f-a579-d7863daec2ab"
      },
      "source": [
        "history = model.fit_generator(train_generator,\n",
        "                              validation_data = validation_generator,\n",
        "                              steps_per_epoch=100,\n",
        "                              epochs=15,\n",
        "                              validation_steps=50,\n",
        "                              verbose=2\n",
        "                              )"
      ],
      "execution_count": 44,
      "outputs": [
        {
          "output_type": "stream",
          "text": [
            "Epoch 1/15\n",
            "100/100 - 9s - loss: 0.0784 - accuracy: 0.9710 - val_loss: 1.6860 - val_accuracy: 0.6940\n",
            "Epoch 2/15\n",
            "100/100 - 9s - loss: 0.0354 - accuracy: 0.9930 - val_loss: 1.9069 - val_accuracy: 0.6970\n",
            "Epoch 3/15\n",
            "100/100 - 9s - loss: 0.0415 - accuracy: 0.9895 - val_loss: 1.9834 - val_accuracy: 0.6900\n",
            "Epoch 4/15\n",
            "100/100 - 8s - loss: 0.0810 - accuracy: 0.9735 - val_loss: 1.7014 - val_accuracy: 0.6670\n",
            "Epoch 5/15\n",
            "100/100 - 9s - loss: 0.0132 - accuracy: 0.9940 - val_loss: 2.9289 - val_accuracy: 0.6660\n",
            "Epoch 6/15\n",
            "100/100 - 9s - loss: 0.0306 - accuracy: 0.9905 - val_loss: 1.3505 - val_accuracy: 0.6650\n",
            "Epoch 7/15\n",
            "100/100 - 8s - loss: 0.0418 - accuracy: 0.9860 - val_loss: 1.3269 - val_accuracy: 0.6530\n",
            "Epoch 8/15\n",
            "100/100 - 8s - loss: 0.0311 - accuracy: 0.9900 - val_loss: 2.4819 - val_accuracy: 0.6650\n",
            "Epoch 9/15\n",
            "100/100 - 9s - loss: 0.0287 - accuracy: 0.9910 - val_loss: 1.9727 - val_accuracy: 0.6580\n",
            "Epoch 10/15\n",
            "100/100 - 9s - loss: 0.0201 - accuracy: 0.9935 - val_loss: 2.8308 - val_accuracy: 0.6580\n",
            "Epoch 11/15\n",
            "100/100 - 9s - loss: 0.0190 - accuracy: 0.9940 - val_loss: 3.1939 - val_accuracy: 0.6540\n",
            "Epoch 12/15\n",
            "100/100 - 9s - loss: 0.0437 - accuracy: 0.9890 - val_loss: 2.0256 - val_accuracy: 0.6600\n",
            "Epoch 13/15\n",
            "100/100 - 9s - loss: 0.0432 - accuracy: 0.9880 - val_loss: 1.7637 - val_accuracy: 0.6750\n",
            "Epoch 14/15\n",
            "100/100 - 9s - loss: 0.0355 - accuracy: 0.9890 - val_loss: 1.8847 - val_accuracy: 0.6530\n",
            "Epoch 15/15\n",
            "100/100 - 9s - loss: 0.0258 - accuracy: 0.9950 - val_loss: 1.7771 - val_accuracy: 0.6980\n"
          ],
          "name": "stdout"
        }
      ]
    },
    {
      "cell_type": "code",
      "metadata": {
        "id": "SHaFmJaHO9vN",
        "colab_type": "code",
        "colab": {
          "base_uri": "https://localhost:8080/",
          "height": 562
        },
        "outputId": "7d0abc00-a7d4-4096-b16b-08b04021f2fa"
      },
      "source": [
        "#-----------------------------------------------------------\n",
        "# Retrieve a list of list results on training and test data\n",
        "# sets for each training epoch\n",
        "#-----------------------------------------------------------\n",
        "acc      = history.history[     'accuracy' ]\n",
        "val_acc  = history.history[ 'val_accuracy' ]\n",
        "loss     = history.history[    'loss' ]\n",
        "val_loss = history.history['val_loss' ]\n",
        "\n",
        "epochs   = range(len(acc)) # Get number of epochs\n",
        "\n",
        "#------------------------------------------------\n",
        "# Plot training and validation accuracy per epoch\n",
        "#------------------------------------------------\n",
        "plt.plot  ( epochs,     acc )\n",
        "plt.plot  ( epochs, val_acc )\n",
        "plt.title ('Training and validation accuracy')\n",
        "plt.figure()\n",
        "\n",
        "#------------------------------------------------\n",
        "# Plot training and validation loss per epoch\n",
        "#------------------------------------------------\n",
        "plt.plot  ( epochs,     loss )\n",
        "plt.plot  ( epochs, val_loss )\n",
        "plt.title ('Training and validation loss'   )"
      ],
      "execution_count": 45,
      "outputs": [
        {
          "output_type": "execute_result",
          "data": {
            "text/plain": [
              "Text(0.5, 1.0, 'Training and validation loss')"
            ]
          },
          "metadata": {
            "tags": []
          },
          "execution_count": 45
        },
        {
          "output_type": "display_data",
          "data": {
            "image/png": "[encoded data removed]",
            "text/plain": [
              "<Figure size 432x288 with 1 Axes>"
            ]
          },
          "metadata": {
            "tags": [],
            "needs_background": "light"
          }
        },
        {
          "output_type": "display_data",
          "data": {
            "image/png": "[encoded data removed]",
            "text/plain": [
              "<Figure size 432x288 with 1 Axes>"
            ]
          },
          "metadata": {
            "tags": [],
            "needs_background": "light"
          }
        }
      ]
    }
  ]
}