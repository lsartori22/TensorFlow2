{
  "nbformat": 4,
  "nbformat_minor": 0,
  "metadata": {
    "colab": {
      "name": "face_mask_detector.ipynb",
      "provenance": []
    },
    "kernelspec": {
      "name": "python3",
      "display_name": "Python 3"
    },
    "accelerator": "GPU"
  },
  "cells": [
    {
      "cell_type": "markdown",
      "metadata": {
        "id": "-656XWuLJzc1",
        "colab_type": "text"
      },
      "source": [
        "### Face Mask Detector"
      ]
    },
    {
      "cell_type": "code",
      "metadata": {
        "id": "2ibXsVvGiR7b",
        "colab_type": "code",
        "outputId": "b29de078-2d20-4b90-8acb-588071947b9b",
        "colab": {
          "base_uri": "https://localhost:8080/",
          "height": 51
        }
      },
      "source": [
        "from __future__ import absolute_import, division, print_function, unicode_literals\n",
        "\n",
        "%tensorflow_version 2.x\n",
        "import tensorflow as tf\n",
        "print(\"You are using TensorFlow version\", tf.__version__)\n",
        "if len(tf.config.list_physical_devices('GPU')) > 0:\n",
        "  print(\"You have a GPU enabled.\")\n",
        "else:\n",
        "  print(\"Enable a GPU before running this notebook.\")"
      ],
      "execution_count": 0,
      "outputs": [
        {
          "output_type": "stream",
          "text": [
            "You are using TensorFlow version 2.2.0\n",
            "You have a GPU enabled.\n"
          ],
          "name": "stdout"
        }
      ]
    },
    {
      "cell_type": "code",
      "metadata": {
        "id": "mCae1ECAKM7s",
        "colab_type": "code",
        "colab": {}
      },
      "source": [
        "import os\n",
        "import cv2\n",
        "import matplotlib.pyplot as plt\n",
        "import random\n",
        "from os import listdir\n",
        "from os.path import isfile, join\n",
        "from tqdm import tqdm_notebook\n",
        "from tensorflow.keras.preprocessing.image import ImageDataGenerator\n",
        "%matplotlib inline"
      ],
      "execution_count": 0,
      "outputs": []
    },
    {
      "cell_type": "code",
      "metadata": {
        "id": "6eT5Hq80K8xy",
        "colab_type": "code",
        "outputId": "1b2a8220-9249-4d6e-dfa7-702494537b0d",
        "colab": {
          "base_uri": "https://localhost:8080/",
          "height": 122
        }
      },
      "source": [
        "from google.colab import drive\n",
        "drive.mount('/content/drive')"
      ],
      "execution_count": 0,
      "outputs": [
        {
          "output_type": "stream",
          "text": [
            "Go to this URL in a browser: https://accounts.google.com/o/oauth2/auth?client_id=947318989803-6bn6qk8qdgf4n4g3pfee6491hc0brc4i.apps.googleusercontent.com&redirect_uri=urn%3aietf%3awg%3aoauth%3a2.0%3aoob&response_type=code&scope=email%20https%3a%2f%2fwww.googleapis.com%2fauth%2fdocs.test%20https%3a%2f%2fwww.googleapis.com%2fauth%2fdrive%20https%3a%2f%2fwww.googleapis.com%2fauth%2fdrive.photos.readonly%20https%3a%2f%2fwww.googleapis.com%2fauth%2fpeopleapi.readonly\n",
            "\n",
            "Enter your authorization code:\n",
            "··········\n",
            "Mounted at /content/drive\n"
          ],
          "name": "stdout"
        }
      ]
    },
    {
      "cell_type": "code",
      "metadata": {
        "id": "HnfW5yI9i_-7",
        "colab_type": "code",
        "colab": {}
      },
      "source": [
        "dataset_path_new = \"/content/drive/My Drive/datasets/dataset\""
      ],
      "execution_count": 0,
      "outputs": []
    },
    {
      "cell_type": "code",
      "metadata": {
        "id": "8UET2szWjJDe",
        "colab_type": "code",
        "colab": {}
      },
      "source": [
        "train_dir = os.path.join(dataset_path_new, \"train\")\n",
        "validation_dir = os.path.join(dataset_path_new, \"valid\")"
      ],
      "execution_count": 0,
      "outputs": []
    },
    {
      "cell_type": "markdown",
      "metadata": {
        "id": "gehIbK70oJOi",
        "colab_type": "text"
      },
      "source": [
        "##Modelo"
      ]
    },
    {
      "cell_type": "code",
      "metadata": {
        "id": "9ceCZa1OohDI",
        "colab_type": "code",
        "colab": {}
      },
      "source": [
        "img_shape = (128,128,3)"
      ],
      "execution_count": 0,
      "outputs": []
    },
    {
      "cell_type": "code",
      "metadata": {
        "id": "1VzgCL55omd7",
        "colab_type": "code",
        "outputId": "8ebb61d7-7d49-4ce6-b9bf-3584d2c12a6c",
        "colab": {
          "base_uri": "https://localhost:8080/",
          "height": 51
        }
      },
      "source": [
        "base_model = tf.keras.applications.MobileNetV2(input_shape=img_shape,\n",
        "                                               include_top=False,\n",
        "                                               weights = \"imagenet\")"
      ],
      "execution_count": 0,
      "outputs": [
        {
          "output_type": "stream",
          "text": [
            "Downloading data from https://storage.googleapis.com/tensorflow/keras-applications/mobilenet_v2/mobilenet_v2_weights_tf_dim_ordering_tf_kernels_1.0_128_no_top.h5\n",
            "9412608/9406464 [==============================] - 0s 0us/step\n"
          ],
          "name": "stdout"
        }
      ]
    },
    {
      "cell_type": "code",
      "metadata": {
        "id": "Rk6eeZqzospY",
        "colab_type": "code",
        "colab": {}
      },
      "source": [
        "base_model.trainable = False"
      ],
      "execution_count": 0,
      "outputs": []
    },
    {
      "cell_type": "code",
      "metadata": {
        "id": "0IklkcViovhJ",
        "colab_type": "code",
        "outputId": "9e48c15b-8919-46d4-beab-ddcd6b128ad4",
        "colab": {
          "base_uri": "https://localhost:8080/",
          "height": 34
        }
      },
      "source": [
        "base_model.output"
      ],
      "execution_count": 0,
      "outputs": [
        {
          "output_type": "execute_result",
          "data": {
            "text/plain": [
              "<tf.Tensor 'out_relu/Identity:0' shape=(None, 4, 4, 1280) dtype=float32>"
            ]
          },
          "metadata": {
            "tags": []
          },
          "execution_count": 8
        }
      ]
    },
    {
      "cell_type": "code",
      "metadata": {
        "id": "kmuEcFI2oyAZ",
        "colab_type": "code",
        "colab": {}
      },
      "source": [
        "global_average_layer = tf.keras.layers.GlobalAveragePooling2D()(base_model.output)"
      ],
      "execution_count": 0,
      "outputs": []
    },
    {
      "cell_type": "code",
      "metadata": {
        "id": "-23TCdobo0E6",
        "colab_type": "code",
        "colab": {}
      },
      "source": [
        "prediction_layer = tf.keras.layers.Dense(units = 3, activation = \"softmax\")(global_average_layer)"
      ],
      "execution_count": 0,
      "outputs": []
    },
    {
      "cell_type": "code",
      "metadata": {
        "id": "6ZLn6A2Ho-Kw",
        "colab_type": "code",
        "colab": {}
      },
      "source": [
        "model = tf.keras.models.Model(inputs = base_model.input, outputs = prediction_layer)"
      ],
      "execution_count": 0,
      "outputs": []
    },
    {
      "cell_type": "code",
      "metadata": {
        "id": "neg3gDlTpBqY",
        "colab_type": "code",
        "colab": {}
      },
      "source": [
        "model.compile(optimizer=tf.keras.optimizers.Adam(),\n",
        "              loss=\"categorical_crossentropy\", \n",
        "              metrics = [\"accuracy\"])"
      ],
      "execution_count": 0,
      "outputs": []
    },
    {
      "cell_type": "markdown",
      "metadata": {
        "id": "oEtRqA7qpDki",
        "colab_type": "text"
      },
      "source": [
        "###Data Generators"
      ]
    },
    {
      "cell_type": "code",
      "metadata": {
        "id": "CP9F-yCKpGhf",
        "colab_type": "code",
        "colab": {}
      },
      "source": [
        "image_size = 128\n",
        "batch_size = 32"
      ],
      "execution_count": 0,
      "outputs": []
    },
    {
      "cell_type": "code",
      "metadata": {
        "id": "0YpGFM9JpKCh",
        "colab_type": "code",
        "colab": {}
      },
      "source": [
        "data_gen_train = ImageDataGenerator(rescale=1/255.)\n",
        "data_gen_valid = ImageDataGenerator(rescale=1/255.)"
      ],
      "execution_count": 0,
      "outputs": []
    },
    {
      "cell_type": "code",
      "metadata": {
        "id": "ZLVEhE04pOP_",
        "colab_type": "code",
        "outputId": "ea81656e-4551-4571-f351-5c0404a1f768",
        "colab": {
          "base_uri": "https://localhost:8080/",
          "height": 51
        }
      },
      "source": [
        "train_generator = data_gen_train.flow_from_directory(train_dir, target_size=(image_size,image_size), batch_size=batch_size, class_mode=\"categorical\")\n",
        "validation_generator = data_gen_train.flow_from_directory(validation_dir, target_size=(image_size,image_size), batch_size=batch_size, class_mode=\"categorical\")"
      ],
      "execution_count": 0,
      "outputs": [
        {
          "output_type": "stream",
          "text": [
            "Found 3132 images belonging to 3 classes.\n",
            "Found 782 images belonging to 3 classes.\n"
          ],
          "name": "stdout"
        }
      ]
    },
    {
      "cell_type": "markdown",
      "metadata": {
        "id": "xmytrNNQp9oQ",
        "colab_type": "text"
      },
      "source": [
        "###Treinando Modelo"
      ]
    },
    {
      "cell_type": "code",
      "metadata": {
        "id": "39LvcaF7qBfD",
        "colab_type": "code",
        "colab": {}
      },
      "source": [
        "import numpy as np"
      ],
      "execution_count": 0,
      "outputs": []
    },
    {
      "cell_type": "code",
      "metadata": {
        "id": "iZW7DzF6qEhd",
        "colab_type": "code",
        "colab": {}
      },
      "source": [
        "epochs = 10\n",
        "batch_size=128\n",
        "steps_per_epoch = np.ceil(train_generator.n / batch_size)\n",
        "validation_steps = np.ceil(validation_generator.n / batch_size)"
      ],
      "execution_count": 0,
      "outputs": []
    },
    {
      "cell_type": "code",
      "metadata": {
        "id": "QGpXCceOkibk",
        "colab_type": "code",
        "outputId": "839c23c2-7e32-419f-a599-90854bd3f425",
        "colab": {
          "base_uri": "https://localhost:8080/",
          "height": 51
        }
      },
      "source": [
        "print(steps_per_epoch)\n",
        "print(validation_steps)"
      ],
      "execution_count": 0,
      "outputs": [
        {
          "output_type": "stream",
          "text": [
            "25.0\n",
            "7.0\n"
          ],
          "name": "stdout"
        }
      ]
    },
    {
      "cell_type": "code",
      "metadata": {
        "id": "geMrCPTzqKEj",
        "colab_type": "code",
        "outputId": "6f13f77e-db85-421d-8ea1-1461fc724749",
        "colab": {
          "base_uri": "https://localhost:8080/",
          "height": 357
        }
      },
      "source": [
        "history = model.fit(train_generator,\n",
        "                    steps_per_epoch = steps_per_epoch,\n",
        "                    epochs=epochs,\n",
        "                    validation_data=validation_generator,\n",
        "                    validation_steps=validation_steps)"
      ],
      "execution_count": 0,
      "outputs": [
        {
          "output_type": "stream",
          "text": [
            "Epoch 1/10\n",
            "25/25 [==============================] - 911s 36s/step - loss: 0.5258 - accuracy: 0.8125 - val_loss: 0.4679 - val_accuracy: 0.8214\n",
            "Epoch 2/10\n",
            "25/25 [==============================] - 904s 36s/step - loss: 0.4253 - accuracy: 0.8275 - val_loss: 0.3521 - val_accuracy: 0.8705\n",
            "Epoch 3/10\n",
            "25/25 [==============================] - 936s 37s/step - loss: 0.3603 - accuracy: 0.8863 - val_loss: 0.3318 - val_accuracy: 0.8438\n",
            "Epoch 4/10\n",
            "25/25 [==============================] - 228s 9s/step - loss: 0.3282 - accuracy: 0.8857 - val_loss: 0.4142 - val_accuracy: 0.8544\n",
            "Epoch 5/10\n",
            "25/25 [==============================] - 2s 76ms/step - loss: 0.2994 - accuracy: 0.8988 - val_loss: 0.2903 - val_accuracy: 0.8929\n",
            "Epoch 6/10\n",
            "25/25 [==============================] - 2s 77ms/step - loss: 0.2836 - accuracy: 0.9000 - val_loss: 0.3153 - val_accuracy: 0.8616\n",
            "Epoch 7/10\n",
            "25/25 [==============================] - 2s 77ms/step - loss: 0.2965 - accuracy: 0.8913 - val_loss: 0.2987 - val_accuracy: 0.8689\n",
            "Epoch 8/10\n",
            "25/25 [==============================] - 2s 74ms/step - loss: 0.2718 - accuracy: 0.9008 - val_loss: 0.3231 - val_accuracy: 0.9062\n",
            "Epoch 9/10\n",
            "25/25 [==============================] - 2s 80ms/step - loss: 0.2319 - accuracy: 0.9162 - val_loss: 0.2391 - val_accuracy: 0.9062\n",
            "Epoch 10/10\n",
            "25/25 [==============================] - 2s 78ms/step - loss: 0.2472 - accuracy: 0.9200 - val_loss: 0.2286 - val_accuracy: 0.9078\n"
          ],
          "name": "stdout"
        }
      ]
    },
    {
      "cell_type": "markdown",
      "metadata": {
        "id": "nlYz2JNdnbX5",
        "colab_type": "text"
      },
      "source": [
        "###Avaliando Modelo"
      ]
    },
    {
      "cell_type": "code",
      "metadata": {
        "id": "SwWzCBSuqNTj",
        "colab_type": "code",
        "outputId": "41dc00ba-7bbe-416e-e575-5b8b3627eddf",
        "colab": {
          "base_uri": "https://localhost:8080/",
          "height": 545
        }
      },
      "source": [
        "acc = history.history['accuracy']\n",
        "val_acc = history.history['val_accuracy']\n",
        "loss = history.history['loss']\n",
        "val_loss = history.history['val_loss']\n",
        "\n",
        "epochs = range(len(acc))\n",
        "\n",
        "plt.plot(epochs, acc, 'r', label='Training accuracy')\n",
        "plt.plot(epochs, val_acc, 'b', label='Validation accuracy')\n",
        "plt.title('Training and Validation accuracy')\n",
        "plt.legend(loc=0)\n",
        "plt.figure()\n",
        "\n",
        "plt.plot  ( epochs,     loss, 'r', label='Training Loss')\n",
        "plt.plot  ( epochs, val_loss, 'b', label='Validation Loss')\n",
        "plt.title ('Training and Validation loss')\n",
        "\n",
        "plt.show()"
      ],
      "execution_count": 0,
      "outputs": [
        {
          "output_type": "display_data",
          "data": {
            "image/png": "[encoded data removed]",
            "text/plain": [
              "<Figure size 432x288 with 1 Axes>"
            ]
          },
          "metadata": {
            "tags": [],
            "needs_background": "light"
          }
        },
        {
          "output_type": "display_data",
          "data": {
            "image/png": "[encoded data removed]",
            "text/plain": [
              "<Figure size 432x288 with 1 Axes>"
            ]
          },
          "metadata": {
            "tags": [],
            "needs_background": "light"
          }
        }
      ]
    },
    {
      "cell_type": "markdown",
      "metadata": {
        "id": "vBDq8gYVqacY",
        "colab_type": "text"
      },
      "source": [
        "###Salvando Modelo"
      ]
    },
    {
      "cell_type": "code",
      "metadata": {
        "id": "YQe2x9k8x0p1",
        "colab_type": "code",
        "colab": {}
      },
      "source": [
        "model.save('medical_masks.h5') \n",
        "\n",
        "json_config = model.to_json()"
      ],
      "execution_count": 0,
      "outputs": []
    },
    {
      "cell_type": "code",
      "metadata": {
        "id": "c2CLnxzeyuFu",
        "colab_type": "code",
        "outputId": "ed44444b-bf24-4816-8ede-b4ab378d7add",
        "colab": {
          "base_uri": "https://localhost:8080/",
          "height": 105
        }
      },
      "source": [
        "# Save the entire model as a SavedModel.\n",
        "!mkdir -p saved_model\n",
        "model.save('saved_model/medical_masks')  # new_model = tf.keras.models.load_model('saved_model/medical_masks')"
      ],
      "execution_count": 0,
      "outputs": [
        {
          "output_type": "stream",
          "text": [
            "WARNING:tensorflow:From /usr/local/lib/python3.6/dist-packages/tensorflow/python/ops/resource_variable_ops.py:1817: calling BaseResourceVariable.__init__ (from tensorflow.python.ops.resource_variable_ops) with constraint is deprecated and will be removed in a future version.\n",
            "Instructions for updating:\n",
            "If using Keras pass *_constraint arguments to layers.\n",
            "INFO:tensorflow:Assets written to: saved_model/medical_masks/assets\n"
          ],
          "name": "stdout"
        }
      ]
    }
  ]
}