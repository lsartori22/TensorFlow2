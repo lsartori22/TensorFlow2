{
  "nbformat": 4,
  "nbformat_minor": 0,
  "metadata": {
    "colab": {
      "name": "RLSimples.ipynb",
      "provenance": [],
      "include_colab_link": true
    },
    "kernelspec": {
      "name": "python3",
      "display_name": "Python 3"
    }
  },
  "cells": [
    {
      "cell_type": "markdown",
      "metadata": {
        "id": "view-in-github",
        "colab_type": "text"
      },
      "source": [
        "<a href=\"https://colab.research.google.com/github/smoreira/TensorFlow2/blob/master/RLSimples.ipynb\" target=\"_parent\"><img src=\"https://colab.research.google.com/assets/colab-badge.svg\" alt=\"Open In Colab\"/></a>"
      ]
    },
    {
      "cell_type": "code",
      "metadata": {
        "id": "2RoKsnYPtEud",
        "colab_type": "code",
        "outputId": "87242868-1847-4112-846c-5b063bbd8d10",
        "colab": {
          "base_uri": "https://localhost:8080/",
          "height": 51
        }
      },
      "source": [
        "%tensorflow_version 2.x\n",
        "import tensorflow as tf\n",
        "print(\"You are using TensorFlow version\", tf.__version__)\n",
        "if len(tf.config.list_physical_devices('GPU')) > 0:\n",
        "  print(\"You have a GPU enabled.\")\n",
        "else:\n",
        "  print(\"Enable a GPU before running this notebook.\")\n",
        "  \n",
        "import numpy as np\n",
        "import matplotlib.pyplot as plt\n"
      ],
      "execution_count": 1,
      "outputs": [
        {
          "output_type": "stream",
          "text": [
            "You are using TensorFlow version 2.2.0-rc3\n",
            "Enable a GPU before running this notebook.\n"
          ],
          "name": "stdout"
        }
      ]
    },
    {
      "cell_type": "markdown",
      "metadata": {
        "id": "ACeqIIbgutT5",
        "colab_type": "text"
      },
      "source": [
        "Criando valores de X aleatórios"
      ]
    },
    {
      "cell_type": "code",
      "metadata": {
        "id": "qFeZWvkkuYop",
        "colab_type": "code",
        "colab": {}
      },
      "source": [
        "x = np.linspace(0,3,120)\n",
        "y = 2 * x + 0.9 + np.random.randn(*x.shape) * 0.3"
      ],
      "execution_count": 0,
      "outputs": []
    },
    {
      "cell_type": "code",
      "metadata": {
        "id": "nk5kg_VuvgTe",
        "colab_type": "code",
        "outputId": "3827c81e-6e41-4488-a9f0-6b4acafd5c2f",
        "colab": {
          "base_uri": "https://localhost:8080/",
          "height": 282
        }
      },
      "source": [
        "plt.scatter(x,y, label = \"input data set\")"
      ],
      "execution_count": 3,
      "outputs": [
        {
          "output_type": "execute_result",
          "data": {
            "text/plain": [
              "<matplotlib.collections.PathCollection at 0x7f457d29e9e8>"
            ]
          },
          "metadata": {
            "tags": []
          },
          "execution_count": 3
        },
        {
          "output_type": "display_data",
          "data": {
            "image/png": "[encoded data removed]",
            "text/plain": [
              "<Figure size 432x288 with 1 Axes>"
            ]
          },
          "metadata": {
            "tags": [],
            "needs_background": "light"
          }
        }
      ]
    },
    {
      "cell_type": "code",
      "metadata": {
        "id": "Fvw85Ehgv5jt",
        "colab_type": "code",
        "colab": {}
      },
      "source": [
        "class LinearModel:\n",
        "  def __call__(self,x):\n",
        "    return self.Weight * x + self.Bias\n",
        "  \n",
        "  def __init__(self):\n",
        "    self.Weight = tf.Variable(11.0)\n",
        "    self.Bias = tf.Variable(12.0)"
      ],
      "execution_count": 0,
      "outputs": []
    },
    {
      "cell_type": "code",
      "metadata": {
        "id": "h-c-uIquwfXD",
        "colab_type": "code",
        "colab": {}
      },
      "source": [
        "def loss(y, pred):\n",
        "  return tf.reduce_mean(tf.square(y - pred))"
      ],
      "execution_count": 0,
      "outputs": []
    },
    {
      "cell_type": "code",
      "metadata": {
        "id": "eiHhbDK_wzb_",
        "colab_type": "code",
        "colab": {}
      },
      "source": [
        "def train(linear_model, x, y, lr=0.12):\n",
        "  with tf.GradientTape() as t:\n",
        "    current_loss = loss(y, linear_model(x))\n",
        "\n",
        "  lr_weight, lr_bias = t.gradient(current_loss, [linear_model.Weight, linear_model.Bias])\n",
        "  linear_model.Weight.assign_sub(lr * lr_weight)\n",
        "  linear_model.Bias.assign_sub(lr * lr_bias)"
      ],
      "execution_count": 0,
      "outputs": []
    },
    {
      "cell_type": "code",
      "metadata": {
        "id": "kpELJODhyJMT",
        "colab_type": "code",
        "outputId": "eb59080b-54f7-4017-ed97-afdcfb63bed8",
        "colab": {
          "base_uri": "https://localhost:8080/",
          "height": 1000
        }
      },
      "source": [
        "linear_model = LinearModel()\n",
        "Weight, Bias = [], []\n",
        "\n",
        "epochs = 80\n",
        "\n",
        "for epoch_cont in range(epochs):\n",
        "  Weight.append(linear_model.Weight.numpy())\n",
        "  Bias.append(linear_model.Bias.numpy())\n",
        "  real_loss = loss(y, linear_model(x))\n",
        "  train(linear_model, x, y, lr=0.12)\n",
        "  print(f\"Epoch count {epoch_cont}: Loss Value: { real_loss.numpy()}\")"
      ],
      "execution_count": 7,
      "outputs": [
        {
          "output_type": "stream",
          "text": [
            "Epoch count 0: Loss Value: 664.4693603515625\n",
            "Epoch count 1: Loss Value: 10.44813060760498\n",
            "Epoch count 2: Loss Value: 5.2020697593688965\n",
            "Epoch count 3: Loss Value: 4.690247535705566\n",
            "Epoch count 4: Loss Value: 4.257025241851807\n",
            "Epoch count 5: Loss Value: 3.8646199703216553\n",
            "Epoch count 6: Loss Value: 3.5089879035949707\n",
            "Epoch count 7: Loss Value: 3.186680316925049\n",
            "Epoch count 8: Loss Value: 2.894575595855713\n",
            "Epoch count 9: Loss Value: 2.6298420429229736\n",
            "Epoch count 10: Loss Value: 2.38991641998291\n",
            "Epoch count 11: Loss Value: 2.172473192214966\n",
            "Epoch count 12: Loss Value: 1.9754060506820679\n",
            "Epoch count 13: Loss Value: 1.7968051433563232\n",
            "Epoch count 14: Loss Value: 1.6349406242370605\n",
            "Epoch count 15: Loss Value: 1.488243818283081\n",
            "Epoch count 16: Loss Value: 1.3552932739257812\n",
            "Epoch count 17: Loss Value: 1.234801173210144\n",
            "Epoch count 18: Loss Value: 1.1256002187728882\n",
            "Epoch count 19: Loss Value: 1.0266318321228027\n",
            "Epoch count 20: Loss Value: 0.9369373917579651\n",
            "Epoch count 21: Loss Value: 0.8556481003761292\n",
            "Epoch count 22: Loss Value: 0.7819761633872986\n",
            "Epoch count 23: Loss Value: 0.7152077555656433\n",
            "Epoch count 24: Loss Value: 0.6546958684921265\n",
            "Epoch count 25: Loss Value: 0.5998544096946716\n",
            "Epoch count 26: Loss Value: 0.5501519441604614\n",
            "Epoch count 27: Loss Value: 0.5051069855690002\n",
            "Epoch count 28: Loss Value: 0.4642829895019531\n",
            "Epoch count 29: Loss Value: 0.42728450894355774\n",
            "Epoch count 30: Loss Value: 0.3937530219554901\n",
            "Epoch count 31: Loss Value: 0.363363653421402\n",
            "Epoch count 32: Loss Value: 0.3358219861984253\n",
            "Epoch count 33: Loss Value: 0.31086111068725586\n",
            "Epoch count 34: Loss Value: 0.2882393002510071\n",
            "Epoch count 35: Loss Value: 0.2677372992038727\n",
            "Epoch count 36: Loss Value: 0.2491564303636551\n",
            "Epoch count 37: Loss Value: 0.23231670260429382\n",
            "Epoch count 38: Loss Value: 0.21705499291419983\n",
            "Epoch count 39: Loss Value: 0.20322345197200775\n",
            "Epoch count 40: Loss Value: 0.19068793952465057\n",
            "Epoch count 41: Loss Value: 0.1793271005153656\n",
            "Epoch count 42: Loss Value: 0.16903091967105865\n",
            "Epoch count 43: Loss Value: 0.15969949960708618\n",
            "Epoch count 44: Loss Value: 0.15124250948429108\n",
            "Epoch count 45: Loss Value: 0.14357797801494598\n",
            "Epoch count 46: Loss Value: 0.13663166761398315\n",
            "Epoch count 47: Loss Value: 0.13033626973628998\n",
            "Epoch count 48: Loss Value: 0.12463079392910004\n",
            "Epoch count 49: Loss Value: 0.11945997923612595\n",
            "Epoch count 50: Loss Value: 0.11477367579936981\n",
            "Epoch count 51: Loss Value: 0.11052656173706055\n",
            "Epoch count 52: Loss Value: 0.10667736828327179\n",
            "Epoch count 53: Loss Value: 0.1031888946890831\n",
            "Epoch count 54: Loss Value: 0.10002730786800385\n",
            "Epoch count 55: Loss Value: 0.09716200828552246\n",
            "Epoch count 56: Loss Value: 0.09456522017717361\n",
            "Epoch count 57: Loss Value: 0.09221170842647552\n",
            "Epoch count 58: Loss Value: 0.09007876366376877\n",
            "Epoch count 59: Loss Value: 0.08814571797847748\n",
            "Epoch count 60: Loss Value: 0.08639378100633621\n",
            "Epoch count 61: Loss Value: 0.08480601012706757\n",
            "Epoch count 62: Loss Value: 0.08336702734231949\n",
            "Epoch count 63: Loss Value: 0.08206286281347275\n",
            "Epoch count 64: Loss Value: 0.08088096976280212\n",
            "Epoch count 65: Loss Value: 0.0798097774386406\n",
            "Epoch count 66: Loss Value: 0.07883897423744202\n",
            "Epoch count 67: Loss Value: 0.07795914262533188\n",
            "Epoch count 68: Loss Value: 0.0771617665886879\n",
            "Epoch count 69: Loss Value: 0.07643910497426987\n",
            "Epoch count 70: Loss Value: 0.07578413933515549\n",
            "Epoch count 71: Loss Value: 0.07519057393074036\n",
            "Epoch count 72: Loss Value: 0.07465263456106186\n",
            "Epoch count 73: Loss Value: 0.07416509091854095\n",
            "Epoch count 74: Loss Value: 0.07372323423624039\n",
            "Epoch count 75: Loss Value: 0.07332277297973633\n",
            "Epoch count 76: Loss Value: 0.07295987010002136\n",
            "Epoch count 77: Loss Value: 0.07263094931840897\n",
            "Epoch count 78: Loss Value: 0.07233284413814545\n",
            "Epoch count 79: Loss Value: 0.07206268608570099\n"
          ],
          "name": "stdout"
        }
      ]
    },
    {
      "cell_type": "code",
      "metadata": {
        "id": "-YDiukO7z8XT",
        "colab_type": "code",
        "outputId": "72635465-69cf-40c3-9cd1-34fd7fa335fd",
        "colab": {
          "base_uri": "https://localhost:8080/",
          "height": 34
        }
      },
      "source": [
        "linear_model.Weight.numpy(), linear_model.Bias.numpy()"
      ],
      "execution_count": 8,
      "outputs": [
        {
          "output_type": "execute_result",
          "data": {
            "text/plain": [
              "(1.9767715, 0.9977383)"
            ]
          },
          "metadata": {
            "tags": []
          },
          "execution_count": 8
        }
      ]
    },
    {
      "cell_type": "code",
      "metadata": {
        "id": "AF9z98x00MnU",
        "colab_type": "code",
        "colab": {}
      },
      "source": [
        "RMSE = loss(y,linear_model(x))"
      ],
      "execution_count": 0,
      "outputs": []
    },
    {
      "cell_type": "code",
      "metadata": {
        "id": "zRe90P6y0UEK",
        "colab_type": "code",
        "outputId": "b123f548-e888-439f-a647-63a08728b1ce",
        "colab": {
          "base_uri": "https://localhost:8080/",
          "height": 34
        }
      },
      "source": [
        "RMSE.numpy()"
      ],
      "execution_count": 10,
      "outputs": [
        {
          "output_type": "execute_result",
          "data": {
            "text/plain": [
              "0.07181785"
            ]
          },
          "metadata": {
            "tags": []
          },
          "execution_count": 10
        }
      ]
    }
  ]
}